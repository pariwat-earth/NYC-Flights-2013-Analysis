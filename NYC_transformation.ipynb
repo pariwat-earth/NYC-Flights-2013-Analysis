{
  "nbformat": 4,
  "nbformat_minor": 0,
  "metadata": {
    "colab": {
      "provenance": [],
      "collapsed_sections": []
    },
    "kernelspec": {
      "name": "ir",
      "display_name": "R"
    },
    "language_info": {
      "name": "R"
    }
  },
  "cells": [
    {
      "cell_type": "markdown",
      "source": [
        "# NYC Flights 2013 Analysis"
      ],
      "metadata": {
        "id": "zG5xAQrniHG9"
      }
    },
    {
      "cell_type": "code",
      "source": [
        "install.packages(\"dplyr\")"
      ],
      "metadata": {
        "id": "7ahw7LvMTDlM",
        "colab": {
          "base_uri": "https://localhost:8080/"
        },
        "outputId": "8a7c0ec4-c956-46b1-c7ba-3e434c2f8d80"
      },
      "execution_count": null,
      "outputs": [
        {
          "output_type": "stream",
          "name": "stderr",
          "text": [
            "Installing package into ‘/usr/local/lib/R/site-library’\n",
            "(as ‘lib’ is unspecified)\n",
            "\n"
          ]
        }
      ]
    },
    {
      "cell_type": "code",
      "source": [
        "library(\"dplyr\")"
      ],
      "metadata": {
        "colab": {
          "base_uri": "https://localhost:8080/"
        },
        "id": "jZB0QSK7iOnS",
        "outputId": "1f9d12d5-6baf-42b1-d62d-defafa5fbe3b"
      },
      "execution_count": null,
      "outputs": [
        {
          "output_type": "stream",
          "name": "stderr",
          "text": [
            "\n",
            "Attaching package: ‘dplyr’\n",
            "\n",
            "\n",
            "The following objects are masked from ‘package:stats’:\n",
            "\n",
            "    filter, lag\n",
            "\n",
            "\n",
            "The following objects are masked from ‘package:base’:\n",
            "\n",
            "    intersect, setdiff, setequal, union\n",
            "\n",
            "\n"
          ]
        }
      ]
    },
    {
      "cell_type": "code",
      "source": [
        "flights <- read.csv(\"flights.csv\")"
      ],
      "metadata": {
        "id": "k1cTYSBWiW4Y"
      },
      "execution_count": null,
      "outputs": []
    },
    {
      "cell_type": "code",
      "source": [
        "flights %>% \n",
        "  head(5)"
      ],
      "metadata": {
        "colab": {
          "base_uri": "https://localhost:8080/",
          "height": 362
        },
        "id": "S7RAbTZHifyi",
        "outputId": "4b6e1b38-32ef-43bb-8b0b-806c8184a8ad"
      },
      "execution_count": null,
      "outputs": [
        {
          "output_type": "display_data",
          "data": {
            "text/html": [
              "<table class=\"dataframe\">\n",
              "<caption>A data.frame: 5 × 19</caption>\n",
              "<thead>\n",
              "\t<tr><th></th><th scope=col>year</th><th scope=col>month</th><th scope=col>day</th><th scope=col>dep_time</th><th scope=col>sched_dep_time</th><th scope=col>dep_delay</th><th scope=col>arr_time</th><th scope=col>sched_arr_time</th><th scope=col>arr_delay</th><th scope=col>carrier</th><th scope=col>flight</th><th scope=col>tailnum</th><th scope=col>origin</th><th scope=col>dest</th><th scope=col>air_time</th><th scope=col>distance</th><th scope=col>hour</th><th scope=col>minute</th><th scope=col>time_hour</th></tr>\n",
              "\t<tr><th></th><th scope=col>&lt;int&gt;</th><th scope=col>&lt;int&gt;</th><th scope=col>&lt;int&gt;</th><th scope=col>&lt;int&gt;</th><th scope=col>&lt;int&gt;</th><th scope=col>&lt;int&gt;</th><th scope=col>&lt;int&gt;</th><th scope=col>&lt;int&gt;</th><th scope=col>&lt;int&gt;</th><th scope=col>&lt;chr&gt;</th><th scope=col>&lt;int&gt;</th><th scope=col>&lt;chr&gt;</th><th scope=col>&lt;chr&gt;</th><th scope=col>&lt;chr&gt;</th><th scope=col>&lt;int&gt;</th><th scope=col>&lt;int&gt;</th><th scope=col>&lt;int&gt;</th><th scope=col>&lt;int&gt;</th><th scope=col>&lt;chr&gt;</th></tr>\n",
              "</thead>\n",
              "<tbody>\n",
              "\t<tr><th scope=row>1</th><td>2013</td><td>1</td><td>1</td><td>517</td><td>515</td><td> 2</td><td> 830</td><td> 819</td><td> 11</td><td>UA</td><td>1545</td><td>N14228</td><td>EWR</td><td>IAH</td><td>227</td><td>1400</td><td>5</td><td>15</td><td>2013-01-01T10:00:00Z</td></tr>\n",
              "\t<tr><th scope=row>2</th><td>2013</td><td>1</td><td>1</td><td>533</td><td>529</td><td> 4</td><td> 850</td><td> 830</td><td> 20</td><td>UA</td><td>1714</td><td>N24211</td><td>LGA</td><td>IAH</td><td>227</td><td>1416</td><td>5</td><td>29</td><td>2013-01-01T10:00:00Z</td></tr>\n",
              "\t<tr><th scope=row>3</th><td>2013</td><td>1</td><td>1</td><td>542</td><td>540</td><td> 2</td><td> 923</td><td> 850</td><td> 33</td><td>AA</td><td>1141</td><td>N619AA</td><td>JFK</td><td>MIA</td><td>160</td><td>1089</td><td>5</td><td>40</td><td>2013-01-01T10:00:00Z</td></tr>\n",
              "\t<tr><th scope=row>4</th><td>2013</td><td>1</td><td>1</td><td>544</td><td>545</td><td>-1</td><td>1004</td><td>1022</td><td>-18</td><td>B6</td><td> 725</td><td>N804JB</td><td>JFK</td><td>BQN</td><td>183</td><td>1576</td><td>5</td><td>45</td><td>2013-01-01T10:00:00Z</td></tr>\n",
              "\t<tr><th scope=row>5</th><td>2013</td><td>1</td><td>1</td><td>554</td><td>600</td><td>-6</td><td> 812</td><td> 837</td><td>-25</td><td>DL</td><td> 461</td><td>N668DN</td><td>LGA</td><td>ATL</td><td>116</td><td> 762</td><td>6</td><td> 0</td><td>2013-01-01T11:00:00Z</td></tr>\n",
              "</tbody>\n",
              "</table>\n"
            ],
            "text/markdown": "\nA data.frame: 5 × 19\n\n| <!--/--> | year &lt;int&gt; | month &lt;int&gt; | day &lt;int&gt; | dep_time &lt;int&gt; | sched_dep_time &lt;int&gt; | dep_delay &lt;int&gt; | arr_time &lt;int&gt; | sched_arr_time &lt;int&gt; | arr_delay &lt;int&gt; | carrier &lt;chr&gt; | flight &lt;int&gt; | tailnum &lt;chr&gt; | origin &lt;chr&gt; | dest &lt;chr&gt; | air_time &lt;int&gt; | distance &lt;int&gt; | hour &lt;int&gt; | minute &lt;int&gt; | time_hour &lt;chr&gt; |\n|---|---|---|---|---|---|---|---|---|---|---|---|---|---|---|---|---|---|---|---|\n| 1 | 2013 | 1 | 1 | 517 | 515 |  2 |  830 |  819 |  11 | UA | 1545 | N14228 | EWR | IAH | 227 | 1400 | 5 | 15 | 2013-01-01T10:00:00Z |\n| 2 | 2013 | 1 | 1 | 533 | 529 |  4 |  850 |  830 |  20 | UA | 1714 | N24211 | LGA | IAH | 227 | 1416 | 5 | 29 | 2013-01-01T10:00:00Z |\n| 3 | 2013 | 1 | 1 | 542 | 540 |  2 |  923 |  850 |  33 | AA | 1141 | N619AA | JFK | MIA | 160 | 1089 | 5 | 40 | 2013-01-01T10:00:00Z |\n| 4 | 2013 | 1 | 1 | 544 | 545 | -1 | 1004 | 1022 | -18 | B6 |  725 | N804JB | JFK | BQN | 183 | 1576 | 5 | 45 | 2013-01-01T10:00:00Z |\n| 5 | 2013 | 1 | 1 | 554 | 600 | -6 |  812 |  837 | -25 | DL |  461 | N668DN | LGA | ATL | 116 |  762 | 6 |  0 | 2013-01-01T11:00:00Z |\n\n",
            "text/latex": "A data.frame: 5 × 19\n\\begin{tabular}{r|lllllllllllllllllll}\n  & year & month & day & dep\\_time & sched\\_dep\\_time & dep\\_delay & arr\\_time & sched\\_arr\\_time & arr\\_delay & carrier & flight & tailnum & origin & dest & air\\_time & distance & hour & minute & time\\_hour\\\\\n  & <int> & <int> & <int> & <int> & <int> & <int> & <int> & <int> & <int> & <chr> & <int> & <chr> & <chr> & <chr> & <int> & <int> & <int> & <int> & <chr>\\\\\n\\hline\n\t1 & 2013 & 1 & 1 & 517 & 515 &  2 &  830 &  819 &  11 & UA & 1545 & N14228 & EWR & IAH & 227 & 1400 & 5 & 15 & 2013-01-01T10:00:00Z\\\\\n\t2 & 2013 & 1 & 1 & 533 & 529 &  4 &  850 &  830 &  20 & UA & 1714 & N24211 & LGA & IAH & 227 & 1416 & 5 & 29 & 2013-01-01T10:00:00Z\\\\\n\t3 & 2013 & 1 & 1 & 542 & 540 &  2 &  923 &  850 &  33 & AA & 1141 & N619AA & JFK & MIA & 160 & 1089 & 5 & 40 & 2013-01-01T10:00:00Z\\\\\n\t4 & 2013 & 1 & 1 & 544 & 545 & -1 & 1004 & 1022 & -18 & B6 &  725 & N804JB & JFK & BQN & 183 & 1576 & 5 & 45 & 2013-01-01T10:00:00Z\\\\\n\t5 & 2013 & 1 & 1 & 554 & 600 & -6 &  812 &  837 & -25 & DL &  461 & N668DN & LGA & ATL & 116 &  762 & 6 &  0 & 2013-01-01T11:00:00Z\\\\\n\\end{tabular}\n",
            "text/plain": [
              "  year month day dep_time sched_dep_time dep_delay arr_time sched_arr_time\n",
              "1 2013 1     1   517      515             2         830      819          \n",
              "2 2013 1     1   533      529             4         850      830          \n",
              "3 2013 1     1   542      540             2         923      850          \n",
              "4 2013 1     1   544      545            -1        1004     1022          \n",
              "5 2013 1     1   554      600            -6         812      837          \n",
              "  arr_delay carrier flight tailnum origin dest air_time distance hour minute\n",
              "1  11       UA      1545   N14228  EWR    IAH  227      1400     5    15    \n",
              "2  20       UA      1714   N24211  LGA    IAH  227      1416     5    29    \n",
              "3  33       AA      1141   N619AA  JFK    MIA  160      1089     5    40    \n",
              "4 -18       B6       725   N804JB  JFK    BQN  183      1576     5    45    \n",
              "5 -25       DL       461   N668DN  LGA    ATL  116       762     6     0    \n",
              "  time_hour           \n",
              "1 2013-01-01T10:00:00Z\n",
              "2 2013-01-01T10:00:00Z\n",
              "3 2013-01-01T10:00:00Z\n",
              "4 2013-01-01T10:00:00Z\n",
              "5 2013-01-01T11:00:00Z"
            ]
          },
          "metadata": {}
        }
      ]
    },
    {
      "cell_type": "markdown",
      "source": [
        "### Q1: 5 อันดับสายการบินที่เดินทางมากที่สุดในเดือนมิถุนายน 2013"
      ],
      "metadata": {
        "id": "wC3kyFDginA0"
      }
    },
    {
      "cell_type": "code",
      "source": [
        "flights %>%\n",
        "  filter(month == 6, year == 2013) %>%\n",
        "  count(carrier) %>%\n",
        "  arrange(desc(n)) %>%\n",
        "  head(5)"
      ],
      "metadata": {
        "colab": {
          "base_uri": "https://localhost:8080/",
          "height": 255
        },
        "id": "UUPdtAleipG0",
        "outputId": "b69b867d-c286-4868-d421-a24ac0344612"
      },
      "execution_count": null,
      "outputs": [
        {
          "output_type": "display_data",
          "data": {
            "text/html": [
              "<table class=\"dataframe\">\n",
              "<caption>A data.frame: 5 × 2</caption>\n",
              "<thead>\n",
              "\t<tr><th></th><th scope=col>carrier</th><th scope=col>n</th></tr>\n",
              "\t<tr><th></th><th scope=col>&lt;chr&gt;</th><th scope=col>&lt;int&gt;</th></tr>\n",
              "</thead>\n",
              "<tbody>\n",
              "\t<tr><th scope=row>1</th><td>UA</td><td>4975</td></tr>\n",
              "\t<tr><th scope=row>2</th><td>B6</td><td>4622</td></tr>\n",
              "\t<tr><th scope=row>3</th><td>EV</td><td>4456</td></tr>\n",
              "\t<tr><th scope=row>4</th><td>DL</td><td>4126</td></tr>\n",
              "\t<tr><th scope=row>5</th><td>AA</td><td>2757</td></tr>\n",
              "</tbody>\n",
              "</table>\n"
            ],
            "text/markdown": "\nA data.frame: 5 × 2\n\n| <!--/--> | carrier &lt;chr&gt; | n &lt;int&gt; |\n|---|---|---|\n| 1 | UA | 4975 |\n| 2 | B6 | 4622 |\n| 3 | EV | 4456 |\n| 4 | DL | 4126 |\n| 5 | AA | 2757 |\n\n",
            "text/latex": "A data.frame: 5 × 2\n\\begin{tabular}{r|ll}\n  & carrier & n\\\\\n  & <chr> & <int>\\\\\n\\hline\n\t1 & UA & 4975\\\\\n\t2 & B6 & 4622\\\\\n\t3 & EV & 4456\\\\\n\t4 & DL & 4126\\\\\n\t5 & AA & 2757\\\\\n\\end{tabular}\n",
            "text/plain": [
              "  carrier n   \n",
              "1 UA      4975\n",
              "2 B6      4622\n",
              "3 EV      4456\n",
              "4 DL      4126\n",
              "5 AA      2757"
            ]
          },
          "metadata": {}
        }
      ]
    },
    {
      "cell_type": "markdown",
      "source": [
        "จากข้อมูลพบว่าสายการบินที่เดินทางมากที่สุดคือUA อันดับสองคือB6"
      ],
      "metadata": {
        "id": "9ivMyfJjUFwK"
      }
    },
    {
      "cell_type": "markdown",
      "source": [
        "### Q2: 5 อันดับสายการบินที่มีจำนวนครั้งล่าช้าในการออกเดินทางมากที่สุด\n"
      ],
      "metadata": {
        "id": "L2PF_A3qivC2"
      }
    },
    {
      "cell_type": "code",
      "source": [
        "flights %>%\n",
        "    select(dep_delay, carrier) %>%\n",
        "    filter(dep_delay > 0) %>%\n",
        "    count(carrier) %>%\n",
        "    arrange(desc(n)) %>%\n",
        "  head(5)"
      ],
      "metadata": {
        "colab": {
          "base_uri": "https://localhost:8080/",
          "height": 255
        },
        "id": "wnL78KVXi0L-",
        "outputId": "b55c2bf3-98cb-4336-8c05-e468e16d549a"
      },
      "execution_count": null,
      "outputs": [
        {
          "output_type": "display_data",
          "data": {
            "text/html": [
              "<table class=\"dataframe\">\n",
              "<caption>A data.frame: 5 × 2</caption>\n",
              "<thead>\n",
              "\t<tr><th></th><th scope=col>carrier</th><th scope=col>n</th></tr>\n",
              "\t<tr><th></th><th scope=col>&lt;chr&gt;</th><th scope=col>&lt;int&gt;</th></tr>\n",
              "</thead>\n",
              "<tbody>\n",
              "\t<tr><th scope=row>1</th><td>UA</td><td>27261</td></tr>\n",
              "\t<tr><th scope=row>2</th><td>EV</td><td>23139</td></tr>\n",
              "\t<tr><th scope=row>3</th><td>B6</td><td>21445</td></tr>\n",
              "\t<tr><th scope=row>4</th><td>DL</td><td>15241</td></tr>\n",
              "\t<tr><th scope=row>5</th><td>AA</td><td>10162</td></tr>\n",
              "</tbody>\n",
              "</table>\n"
            ],
            "text/markdown": "\nA data.frame: 5 × 2\n\n| <!--/--> | carrier &lt;chr&gt; | n &lt;int&gt; |\n|---|---|---|\n| 1 | UA | 27261 |\n| 2 | EV | 23139 |\n| 3 | B6 | 21445 |\n| 4 | DL | 15241 |\n| 5 | AA | 10162 |\n\n",
            "text/latex": "A data.frame: 5 × 2\n\\begin{tabular}{r|ll}\n  & carrier & n\\\\\n  & <chr> & <int>\\\\\n\\hline\n\t1 & UA & 27261\\\\\n\t2 & EV & 23139\\\\\n\t3 & B6 & 21445\\\\\n\t4 & DL & 15241\\\\\n\t5 & AA & 10162\\\\\n\\end{tabular}\n",
            "text/plain": [
              "  carrier n    \n",
              "1 UA      27261\n",
              "2 EV      23139\n",
              "3 B6      21445\n",
              "4 DL      15241\n",
              "5 AA      10162"
            ]
          },
          "metadata": {}
        }
      ]
    },
    {
      "cell_type": "markdown",
      "source": [
        "จากข้อมูลพบว่าสายการบินUAล่าช้าไปทั้งหมด 27261 ครั้ง อันดับ2คือEV 23139ครั้ง"
      ],
      "metadata": {
        "id": "G3HivtWLUUdy"
      }
    },
    {
      "cell_type": "markdown",
      "source": [
        "### Q3: 5 อันดับสายการบินที่มีจำนวนเวลาในการออกเดินทางล้าช้าสะสมมากที่สุด"
      ],
      "metadata": {
        "id": "uOsnTFMai6DS"
      }
    },
    {
      "cell_type": "code",
      "source": [
        "flights %>%\n",
        "    select(dep_delay, carrier) %>%\n",
        "    filter(dep_delay > 0) %>%\n",
        "    group_by(carrier) %>%\n",
        "    summarise(delay = round(sum(dep_delay)/60,digits = 1)) %>%\n",
        "    arrange(desc(delay)) %>%\n",
        "  head(5)\n"
      ],
      "metadata": {
        "colab": {
          "base_uri": "https://localhost:8080/",
          "height": 255
        },
        "id": "jDN5A6Iti7PT",
        "outputId": "54495390-b8ae-4e4c-ccd2-ed5891d5888b"
      },
      "execution_count": null,
      "outputs": [
        {
          "output_type": "display_data",
          "data": {
            "text/html": [
              "<table class=\"dataframe\">\n",
              "<caption>A tibble: 5 × 2</caption>\n",
              "<thead>\n",
              "\t<tr><th scope=col>carrier</th><th scope=col>delay</th></tr>\n",
              "\t<tr><th scope=col>&lt;chr&gt;</th><th scope=col>&lt;dbl&gt;</th></tr>\n",
              "</thead>\n",
              "<tbody>\n",
              "\t<tr><td>EV</td><td>19409.7</td></tr>\n",
              "\t<tr><td>B6</td><td>14223.1</td></tr>\n",
              "\t<tr><td>UA</td><td>13597.0</td></tr>\n",
              "\t<tr><td>DL</td><td> 9500.3</td></tr>\n",
              "\t<tr><td>AA</td><td> 6295.2</td></tr>\n",
              "</tbody>\n",
              "</table>\n"
            ],
            "text/markdown": "\nA tibble: 5 × 2\n\n| carrier &lt;chr&gt; | delay &lt;dbl&gt; |\n|---|---|\n| EV | 19409.7 |\n| B6 | 14223.1 |\n| UA | 13597.0 |\n| DL |  9500.3 |\n| AA |  6295.2 |\n\n",
            "text/latex": "A tibble: 5 × 2\n\\begin{tabular}{ll}\n carrier & delay\\\\\n <chr> & <dbl>\\\\\n\\hline\n\t EV & 19409.7\\\\\n\t B6 & 14223.1\\\\\n\t UA & 13597.0\\\\\n\t DL &  9500.3\\\\\n\t AA &  6295.2\\\\\n\\end{tabular}\n",
            "text/plain": [
              "  carrier delay  \n",
              "1 EV      19409.7\n",
              "2 B6      14223.1\n",
              "3 UA      13597.0\n",
              "4 DL       9500.3\n",
              "5 AA       6295.2"
            ]
          },
          "metadata": {}
        }
      ]
    },
    {
      "cell_type": "markdown",
      "source": [
        "จากข้อมูลพบว่าสายการบินEV มีจำนวนชม.ของการล่าช้าสะสมมากที่สุด"
      ],
      "metadata": {
        "id": "UhP3_BcDVJIM"
      }
    },
    {
      "cell_type": "markdown",
      "source": [
        "### Q4: สายการบินที่คนนิยมใช้บริการมากที่สุดในปี โดยคิดจากจำนวนการบิน"
      ],
      "metadata": {
        "id": "uE63GTAgoXk9"
      }
    },
    {
      "cell_type": "code",
      "source": [
        "flights %>%\n",
        "  count(carrier) %>%\n",
        "  arrange(desc(n)) %>% \n",
        "  head(10)"
      ],
      "metadata": {
        "colab": {
          "base_uri": "https://localhost:8080/",
          "height": 412
        },
        "id": "MJLU_vf8oXPN",
        "outputId": "a3d41b90-6277-4afe-bfbf-8fb34ac37a21"
      },
      "execution_count": null,
      "outputs": [
        {
          "output_type": "display_data",
          "data": {
            "text/html": [
              "<table class=\"dataframe\">\n",
              "<caption>A data.frame: 10 × 2</caption>\n",
              "<thead>\n",
              "\t<tr><th></th><th scope=col>carrier</th><th scope=col>n</th></tr>\n",
              "\t<tr><th></th><th scope=col>&lt;chr&gt;</th><th scope=col>&lt;int&gt;</th></tr>\n",
              "</thead>\n",
              "<tbody>\n",
              "\t<tr><th scope=row>1</th><td>UA</td><td>58665</td></tr>\n",
              "\t<tr><th scope=row>2</th><td>B6</td><td>54635</td></tr>\n",
              "\t<tr><th scope=row>3</th><td>EV</td><td>54173</td></tr>\n",
              "\t<tr><th scope=row>4</th><td>DL</td><td>48110</td></tr>\n",
              "\t<tr><th scope=row>5</th><td>AA</td><td>32729</td></tr>\n",
              "\t<tr><th scope=row>6</th><td>MQ</td><td>26397</td></tr>\n",
              "\t<tr><th scope=row>7</th><td>US</td><td>20536</td></tr>\n",
              "\t<tr><th scope=row>8</th><td>9E</td><td>18460</td></tr>\n",
              "\t<tr><th scope=row>9</th><td>WN</td><td>12275</td></tr>\n",
              "\t<tr><th scope=row>10</th><td>VX</td><td> 5162</td></tr>\n",
              "</tbody>\n",
              "</table>\n"
            ],
            "text/markdown": "\nA data.frame: 10 × 2\n\n| <!--/--> | carrier &lt;chr&gt; | n &lt;int&gt; |\n|---|---|---|\n| 1 | UA | 58665 |\n| 2 | B6 | 54635 |\n| 3 | EV | 54173 |\n| 4 | DL | 48110 |\n| 5 | AA | 32729 |\n| 6 | MQ | 26397 |\n| 7 | US | 20536 |\n| 8 | 9E | 18460 |\n| 9 | WN | 12275 |\n| 10 | VX |  5162 |\n\n",
            "text/latex": "A data.frame: 10 × 2\n\\begin{tabular}{r|ll}\n  & carrier & n\\\\\n  & <chr> & <int>\\\\\n\\hline\n\t1 & UA & 58665\\\\\n\t2 & B6 & 54635\\\\\n\t3 & EV & 54173\\\\\n\t4 & DL & 48110\\\\\n\t5 & AA & 32729\\\\\n\t6 & MQ & 26397\\\\\n\t7 & US & 20536\\\\\n\t8 & 9E & 18460\\\\\n\t9 & WN & 12275\\\\\n\t10 & VX &  5162\\\\\n\\end{tabular}\n",
            "text/plain": [
              "   carrier n    \n",
              "1  UA      58665\n",
              "2  B6      54635\n",
              "3  EV      54173\n",
              "4  DL      48110\n",
              "5  AA      32729\n",
              "6  MQ      26397\n",
              "7  US      20536\n",
              "8  9E      18460\n",
              "9  WN      12275\n",
              "10 VX       5162"
            ]
          },
          "metadata": {}
        }
      ]
    },
    {
      "cell_type": "markdown",
      "source": [
        "ในปี2013 สายการบินUAเป็นที่นิยมมากที่สุด"
      ],
      "metadata": {
        "id": "lFwRLBKOVVuH"
      }
    },
    {
      "cell_type": "markdown",
      "source": [
        "### Q5: จำนวนสายการบินที่มีระยะเดินทางสะสมมากที่สุดในปี 2013"
      ],
      "metadata": {
        "id": "2-uELQlfsvkC"
      }
    },
    {
      "cell_type": "code",
      "source": [
        "flights %>%\n",
        "  select(distance, carrier) %>%\n",
        "  group_by(carrier) %>%\n",
        "  summarise(sum_distance = sum(distance)) %>%\n",
        "  arrange(desc(sum_distance))\n",
        "  "
      ],
      "metadata": {
        "colab": {
          "base_uri": "https://localhost:8080/",
          "height": 600
        },
        "id": "VYP2vVuEsull",
        "outputId": "55123cdd-8e6a-43aa-f349-6d5b39c12d15"
      },
      "execution_count": null,
      "outputs": [
        {
          "output_type": "display_data",
          "data": {
            "text/html": [
              "<table class=\"dataframe\">\n",
              "<caption>A tibble: 16 × 2</caption>\n",
              "<thead>\n",
              "\t<tr><th scope=col>carrier</th><th scope=col>sum_distance</th></tr>\n",
              "\t<tr><th scope=col>&lt;chr&gt;</th><th scope=col>&lt;int&gt;</th></tr>\n",
              "</thead>\n",
              "<tbody>\n",
              "\t<tr><td>UA</td><td>89705524</td></tr>\n",
              "\t<tr><td>DL</td><td>59507317</td></tr>\n",
              "\t<tr><td>B6</td><td>58384137</td></tr>\n",
              "\t<tr><td>AA</td><td>43864584</td></tr>\n",
              "\t<tr><td>EV</td><td>30498951</td></tr>\n",
              "\t<tr><td>MQ</td><td>15033955</td></tr>\n",
              "\t<tr><td>VX</td><td>12902327</td></tr>\n",
              "\t<tr><td>WN</td><td>12229203</td></tr>\n",
              "\t<tr><td>US</td><td>11365778</td></tr>\n",
              "\t<tr><td>9E</td><td> 9788152</td></tr>\n",
              "\t<tr><td>FL</td><td> 2167344</td></tr>\n",
              "\t<tr><td>AS</td><td> 1715028</td></tr>\n",
              "\t<tr><td>HA</td><td> 1704186</td></tr>\n",
              "\t<tr><td>F9</td><td> 1109700</td></tr>\n",
              "\t<tr><td>YV</td><td>  225395</td></tr>\n",
              "\t<tr><td>OO</td><td>   16026</td></tr>\n",
              "</tbody>\n",
              "</table>\n"
            ],
            "text/markdown": "\nA tibble: 16 × 2\n\n| carrier &lt;chr&gt; | sum_distance &lt;int&gt; |\n|---|---|\n| UA | 89705524 |\n| DL | 59507317 |\n| B6 | 58384137 |\n| AA | 43864584 |\n| EV | 30498951 |\n| MQ | 15033955 |\n| VX | 12902327 |\n| WN | 12229203 |\n| US | 11365778 |\n| 9E |  9788152 |\n| FL |  2167344 |\n| AS |  1715028 |\n| HA |  1704186 |\n| F9 |  1109700 |\n| YV |   225395 |\n| OO |    16026 |\n\n",
            "text/latex": "A tibble: 16 × 2\n\\begin{tabular}{ll}\n carrier & sum\\_distance\\\\\n <chr> & <int>\\\\\n\\hline\n\t UA & 89705524\\\\\n\t DL & 59507317\\\\\n\t B6 & 58384137\\\\\n\t AA & 43864584\\\\\n\t EV & 30498951\\\\\n\t MQ & 15033955\\\\\n\t VX & 12902327\\\\\n\t WN & 12229203\\\\\n\t US & 11365778\\\\\n\t 9E &  9788152\\\\\n\t FL &  2167344\\\\\n\t AS &  1715028\\\\\n\t HA &  1704186\\\\\n\t F9 &  1109700\\\\\n\t YV &   225395\\\\\n\t OO &    16026\\\\\n\\end{tabular}\n",
            "text/plain": [
              "   carrier sum_distance\n",
              "1  UA      89705524    \n",
              "2  DL      59507317    \n",
              "3  B6      58384137    \n",
              "4  AA      43864584    \n",
              "5  EV      30498951    \n",
              "6  MQ      15033955    \n",
              "7  VX      12902327    \n",
              "8  WN      12229203    \n",
              "9  US      11365778    \n",
              "10 9E       9788152    \n",
              "11 FL       2167344    \n",
              "12 AS       1715028    \n",
              "13 HA       1704186    \n",
              "14 F9       1109700    \n",
              "15 YV        225395    \n",
              "16 OO         16026    "
            ]
          },
          "metadata": {}
        }
      ]
    },
    {
      "cell_type": "markdown",
      "source": [
        "### Q6: รุ่นเครื่องบินที่ถูกใช้งานมากที่สุด"
      ],
      "metadata": {
        "id": "BSpMx0wgwVP8"
      }
    },
    {
      "cell_type": "code",
      "source": [
        "flights %>%\n",
        "  filter(!is.na(tailnum)) %>%\n",
        "  count(tailnum) %>%\n",
        "  arrange(desc(n)) %>% \n",
        "  head(10)"
      ],
      "metadata": {
        "colab": {
          "base_uri": "https://localhost:8080/",
          "height": 412
        },
        "id": "XjnYf1ihwKUl",
        "outputId": "5a3ed442-df5e-441a-e0ca-e088b9acd80d"
      },
      "execution_count": null,
      "outputs": [
        {
          "output_type": "display_data",
          "data": {
            "text/html": [
              "<table class=\"dataframe\">\n",
              "<caption>A data.frame: 10 × 2</caption>\n",
              "<thead>\n",
              "\t<tr><th></th><th scope=col>tailnum</th><th scope=col>n</th></tr>\n",
              "\t<tr><th></th><th scope=col>&lt;chr&gt;</th><th scope=col>&lt;int&gt;</th></tr>\n",
              "</thead>\n",
              "<tbody>\n",
              "\t<tr><th scope=row>1</th><td>N725MQ</td><td>575</td></tr>\n",
              "\t<tr><th scope=row>2</th><td>N722MQ</td><td>513</td></tr>\n",
              "\t<tr><th scope=row>3</th><td>N723MQ</td><td>507</td></tr>\n",
              "\t<tr><th scope=row>4</th><td>N711MQ</td><td>486</td></tr>\n",
              "\t<tr><th scope=row>5</th><td>N713MQ</td><td>483</td></tr>\n",
              "\t<tr><th scope=row>6</th><td>N258JB</td><td>427</td></tr>\n",
              "\t<tr><th scope=row>7</th><td>N298JB</td><td>407</td></tr>\n",
              "\t<tr><th scope=row>8</th><td>N353JB</td><td>404</td></tr>\n",
              "\t<tr><th scope=row>9</th><td>N351JB</td><td>402</td></tr>\n",
              "\t<tr><th scope=row>10</th><td>N735MQ</td><td>396</td></tr>\n",
              "</tbody>\n",
              "</table>\n"
            ],
            "text/markdown": "\nA data.frame: 10 × 2\n\n| <!--/--> | tailnum &lt;chr&gt; | n &lt;int&gt; |\n|---|---|---|\n| 1 | N725MQ | 575 |\n| 2 | N722MQ | 513 |\n| 3 | N723MQ | 507 |\n| 4 | N711MQ | 486 |\n| 5 | N713MQ | 483 |\n| 6 | N258JB | 427 |\n| 7 | N298JB | 407 |\n| 8 | N353JB | 404 |\n| 9 | N351JB | 402 |\n| 10 | N735MQ | 396 |\n\n",
            "text/latex": "A data.frame: 10 × 2\n\\begin{tabular}{r|ll}\n  & tailnum & n\\\\\n  & <chr> & <int>\\\\\n\\hline\n\t1 & N725MQ & 575\\\\\n\t2 & N722MQ & 513\\\\\n\t3 & N723MQ & 507\\\\\n\t4 & N711MQ & 486\\\\\n\t5 & N713MQ & 483\\\\\n\t6 & N258JB & 427\\\\\n\t7 & N298JB & 407\\\\\n\t8 & N353JB & 404\\\\\n\t9 & N351JB & 402\\\\\n\t10 & N735MQ & 396\\\\\n\\end{tabular}\n",
            "text/plain": [
              "   tailnum n  \n",
              "1  N725MQ  575\n",
              "2  N722MQ  513\n",
              "3  N723MQ  507\n",
              "4  N711MQ  486\n",
              "5  N713MQ  483\n",
              "6  N258JB  427\n",
              "7  N298JB  407\n",
              "8  N353JB  404\n",
              "9  N351JB  402\n",
              "10 N735MQ  396"
            ]
          },
          "metadata": {}
        }
      ]
    },
    {
      "cell_type": "markdown",
      "source": [
        "ในปี2013 พบว่าเครื่องบินรุ่น N725MQ ถูกนำมาใช้งานมากที่สุด รองลงมาคือN722MQและN723MQ"
      ],
      "metadata": {
        "id": "W1bw3qipVltq"
      }
    },
    {
      "cell_type": "markdown",
      "source": [
        "Q7: สนามบินต้นทางที่คนเข้าไปใช้บริการมากที่สุด"
      ],
      "metadata": {
        "id": "NLcb20XOxF7W"
      }
    },
    {
      "cell_type": "code",
      "source": [
        "flights %>%\n",
        "  count(origin) %>%\n",
        "  arrange(desc(n))"
      ],
      "metadata": {
        "colab": {
          "base_uri": "https://localhost:8080/",
          "height": 192
        },
        "id": "lLrYdvO5xOxo",
        "outputId": "42ecbde4-ef68-45ab-fb41-886726a54b89"
      },
      "execution_count": null,
      "outputs": [
        {
          "output_type": "display_data",
          "data": {
            "text/html": [
              "<table class=\"dataframe\">\n",
              "<caption>A data.frame: 3 × 2</caption>\n",
              "<thead>\n",
              "\t<tr><th scope=col>origin</th><th scope=col>n</th></tr>\n",
              "\t<tr><th scope=col>&lt;chr&gt;</th><th scope=col>&lt;int&gt;</th></tr>\n",
              "</thead>\n",
              "<tbody>\n",
              "\t<tr><td>EWR</td><td>120835</td></tr>\n",
              "\t<tr><td>JFK</td><td>111279</td></tr>\n",
              "\t<tr><td>LGA</td><td>104662</td></tr>\n",
              "</tbody>\n",
              "</table>\n"
            ],
            "text/markdown": "\nA data.frame: 3 × 2\n\n| origin &lt;chr&gt; | n &lt;int&gt; |\n|---|---|\n| EWR | 120835 |\n| JFK | 111279 |\n| LGA | 104662 |\n\n",
            "text/latex": "A data.frame: 3 × 2\n\\begin{tabular}{ll}\n origin & n\\\\\n <chr> & <int>\\\\\n\\hline\n\t EWR & 120835\\\\\n\t JFK & 111279\\\\\n\t LGA & 104662\\\\\n\\end{tabular}\n",
            "text/plain": [
              "  origin n     \n",
              "1 EWR    120835\n",
              "2 JFK    111279\n",
              "3 LGA    104662"
            ]
          },
          "metadata": {}
        }
      ]
    },
    {
      "cell_type": "markdown",
      "source": [
        "### Q8: สนามบินปลายทางที่คนนิยมไป 20 อันดับ"
      ],
      "metadata": {
        "id": "ekd7GNq9xtAo"
      }
    },
    {
      "cell_type": "code",
      "source": [
        "flights %>%\n",
        "  count(dest) %>%\n",
        "  arrange(desc(n))%>%\n",
        "  head(20)"
      ],
      "metadata": {
        "colab": {
          "base_uri": "https://localhost:8080/",
          "height": 725
        },
        "id": "YRAVCdB3xrkU",
        "outputId": "d1f54b46-575f-4f56-eda3-dedfde337225"
      },
      "execution_count": null,
      "outputs": [
        {
          "output_type": "display_data",
          "data": {
            "text/html": [
              "<table class=\"dataframe\">\n",
              "<caption>A data.frame: 20 × 2</caption>\n",
              "<thead>\n",
              "\t<tr><th></th><th scope=col>dest</th><th scope=col>n</th></tr>\n",
              "\t<tr><th></th><th scope=col>&lt;chr&gt;</th><th scope=col>&lt;int&gt;</th></tr>\n",
              "</thead>\n",
              "<tbody>\n",
              "\t<tr><th scope=row>1</th><td>ORD</td><td>17283</td></tr>\n",
              "\t<tr><th scope=row>2</th><td>ATL</td><td>17215</td></tr>\n",
              "\t<tr><th scope=row>3</th><td>LAX</td><td>16174</td></tr>\n",
              "\t<tr><th scope=row>4</th><td>BOS</td><td>15508</td></tr>\n",
              "\t<tr><th scope=row>5</th><td>MCO</td><td>14082</td></tr>\n",
              "\t<tr><th scope=row>6</th><td>CLT</td><td>14064</td></tr>\n",
              "\t<tr><th scope=row>7</th><td>SFO</td><td>13331</td></tr>\n",
              "\t<tr><th scope=row>8</th><td>FLL</td><td>12055</td></tr>\n",
              "\t<tr><th scope=row>9</th><td>MIA</td><td>11728</td></tr>\n",
              "\t<tr><th scope=row>10</th><td>DCA</td><td> 9705</td></tr>\n",
              "\t<tr><th scope=row>11</th><td>DTW</td><td> 9384</td></tr>\n",
              "\t<tr><th scope=row>12</th><td>DFW</td><td> 8738</td></tr>\n",
              "\t<tr><th scope=row>13</th><td>RDU</td><td> 8163</td></tr>\n",
              "\t<tr><th scope=row>14</th><td>TPA</td><td> 7466</td></tr>\n",
              "\t<tr><th scope=row>15</th><td>DEN</td><td> 7266</td></tr>\n",
              "\t<tr><th scope=row>16</th><td>IAH</td><td> 7198</td></tr>\n",
              "\t<tr><th scope=row>17</th><td>MSP</td><td> 7185</td></tr>\n",
              "\t<tr><th scope=row>18</th><td>PBI</td><td> 6554</td></tr>\n",
              "\t<tr><th scope=row>19</th><td>BNA</td><td> 6333</td></tr>\n",
              "\t<tr><th scope=row>20</th><td>LAS</td><td> 5997</td></tr>\n",
              "</tbody>\n",
              "</table>\n"
            ],
            "text/markdown": "\nA data.frame: 20 × 2\n\n| <!--/--> | dest &lt;chr&gt; | n &lt;int&gt; |\n|---|---|---|\n| 1 | ORD | 17283 |\n| 2 | ATL | 17215 |\n| 3 | LAX | 16174 |\n| 4 | BOS | 15508 |\n| 5 | MCO | 14082 |\n| 6 | CLT | 14064 |\n| 7 | SFO | 13331 |\n| 8 | FLL | 12055 |\n| 9 | MIA | 11728 |\n| 10 | DCA |  9705 |\n| 11 | DTW |  9384 |\n| 12 | DFW |  8738 |\n| 13 | RDU |  8163 |\n| 14 | TPA |  7466 |\n| 15 | DEN |  7266 |\n| 16 | IAH |  7198 |\n| 17 | MSP |  7185 |\n| 18 | PBI |  6554 |\n| 19 | BNA |  6333 |\n| 20 | LAS |  5997 |\n\n",
            "text/latex": "A data.frame: 20 × 2\n\\begin{tabular}{r|ll}\n  & dest & n\\\\\n  & <chr> & <int>\\\\\n\\hline\n\t1 & ORD & 17283\\\\\n\t2 & ATL & 17215\\\\\n\t3 & LAX & 16174\\\\\n\t4 & BOS & 15508\\\\\n\t5 & MCO & 14082\\\\\n\t6 & CLT & 14064\\\\\n\t7 & SFO & 13331\\\\\n\t8 & FLL & 12055\\\\\n\t9 & MIA & 11728\\\\\n\t10 & DCA &  9705\\\\\n\t11 & DTW &  9384\\\\\n\t12 & DFW &  8738\\\\\n\t13 & RDU &  8163\\\\\n\t14 & TPA &  7466\\\\\n\t15 & DEN &  7266\\\\\n\t16 & IAH &  7198\\\\\n\t17 & MSP &  7185\\\\\n\t18 & PBI &  6554\\\\\n\t19 & BNA &  6333\\\\\n\t20 & LAS &  5997\\\\\n\\end{tabular}\n",
            "text/plain": [
              "   dest n    \n",
              "1  ORD  17283\n",
              "2  ATL  17215\n",
              "3  LAX  16174\n",
              "4  BOS  15508\n",
              "5  MCO  14082\n",
              "6  CLT  14064\n",
              "7  SFO  13331\n",
              "8  FLL  12055\n",
              "9  MIA  11728\n",
              "10 DCA   9705\n",
              "11 DTW   9384\n",
              "12 DFW   8738\n",
              "13 RDU   8163\n",
              "14 TPA   7466\n",
              "15 DEN   7266\n",
              "16 IAH   7198\n",
              "17 MSP   7185\n",
              "18 PBI   6554\n",
              "19 BNA   6333\n",
              "20 LAS   5997"
            ]
          },
          "metadata": {}
        }
      ]
    },
    {
      "cell_type": "markdown",
      "source": [
        "จากข้อมูลพบว่าปลายทางที่คนนิยมเดินทางไปมากที่สุดคือORD ลองลงมาคือATL"
      ],
      "metadata": {
        "id": "dH7balEnV7_U"
      }
    },
    {
      "cell_type": "markdown",
      "source": [
        "### Q9: คนที่ไปORDนิยมใช้บริการสายการบินอะไร\n"
      ],
      "metadata": {
        "id": "_i_Vt2pTyZYv"
      }
    },
    {
      "cell_type": "code",
      "source": [
        "flights %>%\n",
        "  select(dest,carrier) %>%\n",
        "  filter(grepl(\"ORD\", flights$dest)) %>%\n",
        "  count(carrier) %>%\n",
        "  arrange(desc(n))\n",
        "  "
      ],
      "metadata": {
        "colab": {
          "base_uri": "https://localhost:8080/",
          "height": 335
        },
        "id": "uX3fg1vqykhf",
        "outputId": "a3d8691c-dd4b-446a-8fa7-dad7a0057511"
      },
      "execution_count": null,
      "outputs": [
        {
          "output_type": "display_data",
          "data": {
            "text/html": [
              "<table class=\"dataframe\">\n",
              "<caption>A data.frame: 7 × 2</caption>\n",
              "<thead>\n",
              "\t<tr><th scope=col>carrier</th><th scope=col>n</th></tr>\n",
              "\t<tr><th scope=col>&lt;chr&gt;</th><th scope=col>&lt;int&gt;</th></tr>\n",
              "</thead>\n",
              "<tbody>\n",
              "\t<tr><td>UA</td><td>6984</td></tr>\n",
              "\t<tr><td>AA</td><td>6059</td></tr>\n",
              "\t<tr><td>MQ</td><td>2276</td></tr>\n",
              "\t<tr><td>9E</td><td>1056</td></tr>\n",
              "\t<tr><td>B6</td><td> 905</td></tr>\n",
              "\t<tr><td>EV</td><td>   2</td></tr>\n",
              "\t<tr><td>OO</td><td>   1</td></tr>\n",
              "</tbody>\n",
              "</table>\n"
            ],
            "text/markdown": "\nA data.frame: 7 × 2\n\n| carrier &lt;chr&gt; | n &lt;int&gt; |\n|---|---|\n| UA | 6984 |\n| AA | 6059 |\n| MQ | 2276 |\n| 9E | 1056 |\n| B6 |  905 |\n| EV |    2 |\n| OO |    1 |\n\n",
            "text/latex": "A data.frame: 7 × 2\n\\begin{tabular}{ll}\n carrier & n\\\\\n <chr> & <int>\\\\\n\\hline\n\t UA & 6984\\\\\n\t AA & 6059\\\\\n\t MQ & 2276\\\\\n\t 9E & 1056\\\\\n\t B6 &  905\\\\\n\t EV &    2\\\\\n\t OO &    1\\\\\n\\end{tabular}\n",
            "text/plain": [
              "  carrier n   \n",
              "1 UA      6984\n",
              "2 AA      6059\n",
              "3 MQ      2276\n",
              "4 9E      1056\n",
              "5 B6       905\n",
              "6 EV         2\n",
              "7 OO         1"
            ]
          },
          "metadata": {}
        }
      ]
    },
    {
      "cell_type": "markdown",
      "source": [
        "สายการบินที่เป็นที่นิมยมในการเดินทางไปORDคือUA รองลงมาคือ AA"
      ],
      "metadata": {
        "id": "pivXRvoVWHlb"
      }
    },
    {
      "cell_type": "markdown",
      "source": [
        "### Q10: เดือนไหนที่คนไป ORD มากที่สุด"
      ],
      "metadata": {
        "id": "XxmV10--0ZRF"
      }
    },
    {
      "cell_type": "code",
      "source": [
        "flights %>%\n",
        "  select(dest,month) %>%\n",
        "  filter(grepl(\"ORD\", flights$dest)) %>%\n",
        "  count(month) %>%\n",
        "  arrange(desc(n))"
      ],
      "metadata": {
        "colab": {
          "base_uri": "https://localhost:8080/",
          "height": 492
        },
        "id": "ggpHTRtt0may",
        "outputId": "22069c1e-f84c-4139-f64b-4b45e899578c"
      },
      "execution_count": null,
      "outputs": [
        {
          "output_type": "display_data",
          "data": {
            "text/html": [
              "<table class=\"dataframe\">\n",
              "<caption>A data.frame: 12 × 2</caption>\n",
              "<thead>\n",
              "\t<tr><th scope=col>month</th><th scope=col>n</th></tr>\n",
              "\t<tr><th scope=col>&lt;int&gt;</th><th scope=col>&lt;int&gt;</th></tr>\n",
              "</thead>\n",
              "<tbody>\n",
              "\t<tr><td> 8</td><td>1604</td></tr>\n",
              "\t<tr><td>10</td><td>1604</td></tr>\n",
              "\t<tr><td> 5</td><td>1582</td></tr>\n",
              "\t<tr><td> 9</td><td>1582</td></tr>\n",
              "\t<tr><td> 7</td><td>1573</td></tr>\n",
              "\t<tr><td> 6</td><td>1547</td></tr>\n",
              "\t<tr><td> 4</td><td>1416</td></tr>\n",
              "\t<tr><td>11</td><td>1370</td></tr>\n",
              "\t<tr><td> 3</td><td>1343</td></tr>\n",
              "\t<tr><td> 1</td><td>1269</td></tr>\n",
              "\t<tr><td> 2</td><td>1197</td></tr>\n",
              "\t<tr><td>12</td><td>1196</td></tr>\n",
              "</tbody>\n",
              "</table>\n"
            ],
            "text/markdown": "\nA data.frame: 12 × 2\n\n| month &lt;int&gt; | n &lt;int&gt; |\n|---|---|\n|  8 | 1604 |\n| 10 | 1604 |\n|  5 | 1582 |\n|  9 | 1582 |\n|  7 | 1573 |\n|  6 | 1547 |\n|  4 | 1416 |\n| 11 | 1370 |\n|  3 | 1343 |\n|  1 | 1269 |\n|  2 | 1197 |\n| 12 | 1196 |\n\n",
            "text/latex": "A data.frame: 12 × 2\n\\begin{tabular}{ll}\n month & n\\\\\n <int> & <int>\\\\\n\\hline\n\t  8 & 1604\\\\\n\t 10 & 1604\\\\\n\t  5 & 1582\\\\\n\t  9 & 1582\\\\\n\t  7 & 1573\\\\\n\t  6 & 1547\\\\\n\t  4 & 1416\\\\\n\t 11 & 1370\\\\\n\t  3 & 1343\\\\\n\t  1 & 1269\\\\\n\t  2 & 1197\\\\\n\t 12 & 1196\\\\\n\\end{tabular}\n",
            "text/plain": [
              "   month n   \n",
              "1   8    1604\n",
              "2  10    1604\n",
              "3   5    1582\n",
              "4   9    1582\n",
              "5   7    1573\n",
              "6   6    1547\n",
              "7   4    1416\n",
              "8  11    1370\n",
              "9   3    1343\n",
              "10  1    1269\n",
              "11  2    1197\n",
              "12 12    1196"
            ]
          },
          "metadata": {}
        }
      ]
    },
    {
      "cell_type": "markdown",
      "source": [
        "เดือนที่คนนิยมเดินทางไปORDคือเดือน8และเดือน10"
      ],
      "metadata": {
        "id": "M8hJfRUOWVQj"
      }
    },
    {
      "cell_type": "markdown",
      "source": [
        "# postgresql"
      ],
      "metadata": {
        "id": "i9gKWZk1YpfE"
      }
    },
    {
      "cell_type": "code",
      "source": [
        "install.packages(\"RPostgreSQL\")"
      ],
      "metadata": {
        "colab": {
          "base_uri": "https://localhost:8080/"
        },
        "id": "XgdoXTy_ZGNw",
        "outputId": "942d74e5-e1f9-4ef5-b65e-8abd4fcd08bf"
      },
      "execution_count": null,
      "outputs": [
        {
          "output_type": "stream",
          "name": "stderr",
          "text": [
            "Installing package into ‘/usr/local/lib/R/site-library’\n",
            "(as ‘lib’ is unspecified)\n",
            "\n"
          ]
        }
      ]
    },
    {
      "cell_type": "code",
      "source": [
        "library(RPostgreSQL)"
      ],
      "metadata": {
        "colab": {
          "base_uri": "https://localhost:8080/"
        },
        "id": "rMt3NnxVaSg0",
        "outputId": "2eeb7d30-f9dd-4ebb-ffce-5bbd6aa27374"
      },
      "execution_count": null,
      "outputs": [
        {
          "output_type": "stream",
          "name": "stderr",
          "text": [
            "Loading required package: DBI\n",
            "\n"
          ]
        }
      ]
    },
    {
      "cell_type": "code",
      "source": [
        "con <- dbConnect(\n",
        "  PostgreSQL(),\n",
        "  host = \"tiny.db.elephantsql.com\",\n",
        "  dbname = \"suvqbsul\",\n",
        "  port = 5432,\n",
        "  user = \"suvqbsul\",\n",
        "  password = \"YhlfaU6WT1zZos9Q6W5R0jBZaDiaEjvE\"\n",
        ")"
      ],
      "metadata": {
        "id": "C12ruHA9agt1"
      },
      "execution_count": null,
      "outputs": []
    },
    {
      "cell_type": "code",
      "source": [
        "# df 1\n",
        "students <- data.frame(\n",
        "  id = 1:5,\n",
        "  student_name = c(\"Pariwat\",\"Sompong\",\"Thitima\",\"Umpai\",\"James\")\n",
        ")"
      ],
      "metadata": {
        "id": "WNJ48WvibtBR"
      },
      "execution_count": null,
      "outputs": []
    },
    {
      "cell_type": "code",
      "source": [
        "# df 2\n",
        "products <- data.frame(\n",
        "  id = 1:5,\n",
        "  name = c(\"Banana\",\"Apple\",\"Mango\",\"Papaya\",\"Kiwi\"),\n",
        "  price = c(100,200,300,400,500),\n",
        "  quantity = c(200,200,200,200,200)\n",
        ")"
      ],
      "metadata": {
        "id": "m9KRu90NgqXg"
      },
      "execution_count": null,
      "outputs": []
    },
    {
      "cell_type": "code",
      "source": [
        "# df 3\n",
        "delivery <- data.frame(\n",
        "  id = 1:5,\n",
        "  product = c(1,1,3,4,5),\n",
        "  zone = c(1,2,3,4,5),\n",
        "  pay= c(TRUE,FALSE,TRUE,TRUE,FALSE)\n",
        ")"
      ],
      "metadata": {
        "id": "3pvZhDWBjQDm"
      },
      "execution_count": null,
      "outputs": []
    },
    {
      "cell_type": "code",
      "source": [
        "# df 4\n",
        "zone <- data.frame(\n",
        "  id = 1:5,\n",
        "  name = c(\"DMK\",\"BKK\",\"HDY\",\"CNX\",\"CEI\")\n",
        ")"
      ],
      "metadata": {
        "id": "1ghQ__8zjvgY"
      },
      "execution_count": null,
      "outputs": []
    },
    {
      "cell_type": "code",
      "source": [
        "dbWriteTable(con, \"students\", students, row.names = FALSE)"
      ],
      "metadata": {
        "colab": {
          "base_uri": "https://localhost:8080/",
          "height": 34
        },
        "id": "0Lc3JieCcKIC",
        "outputId": "2cb296cb-162d-448a-d398-8cd9d7b41176"
      },
      "execution_count": null,
      "outputs": [
        {
          "output_type": "display_data",
          "data": {
            "text/html": [
              "TRUE"
            ],
            "text/markdown": "TRUE",
            "text/latex": "TRUE",
            "text/plain": [
              "[1] TRUE"
            ]
          },
          "metadata": {}
        }
      ]
    },
    {
      "cell_type": "code",
      "source": [
        "dbWriteTable(con, \"products\", products, row.names = FALSE)"
      ],
      "metadata": {
        "colab": {
          "base_uri": "https://localhost:8080/",
          "height": 34
        },
        "id": "caZgwb4okY6W",
        "outputId": "68d8cdb5-b0a5-44f5-945a-6d131c407646"
      },
      "execution_count": null,
      "outputs": [
        {
          "output_type": "display_data",
          "data": {
            "text/html": [
              "TRUE"
            ],
            "text/markdown": "TRUE",
            "text/latex": "TRUE",
            "text/plain": [
              "[1] TRUE"
            ]
          },
          "metadata": {}
        }
      ]
    },
    {
      "cell_type": "code",
      "source": [
        "dbWriteTable(con, \"deliverys\", delivery, row.names = FALSE)"
      ],
      "metadata": {
        "colab": {
          "base_uri": "https://localhost:8080/",
          "height": 34
        },
        "id": "2SlMhICqkgdg",
        "outputId": "3cdd98e2-3a38-41a9-e737-ebc938749491"
      },
      "execution_count": null,
      "outputs": [
        {
          "output_type": "display_data",
          "data": {
            "text/html": [
              "TRUE"
            ],
            "text/markdown": "TRUE",
            "text/latex": "TRUE",
            "text/plain": [
              "[1] TRUE"
            ]
          },
          "metadata": {}
        }
      ]
    },
    {
      "cell_type": "code",
      "source": [
        "dbWriteTable(con, \"zone\", zone, row.names = FALSE)"
      ],
      "metadata": {
        "colab": {
          "base_uri": "https://localhost:8080/",
          "height": 34
        },
        "id": "pDhPrgcUkk_C",
        "outputId": "67e5559b-7ef1-4315-ded0-bb39514ef49c"
      },
      "execution_count": null,
      "outputs": [
        {
          "output_type": "display_data",
          "data": {
            "text/html": [
              "TRUE"
            ],
            "text/markdown": "TRUE",
            "text/latex": "TRUE",
            "text/plain": [
              "[1] TRUE"
            ]
          },
          "metadata": {}
        }
      ]
    },
    {
      "cell_type": "code",
      "source": [
        "dbListTables(con)"
      ],
      "metadata": {
        "colab": {
          "base_uri": "https://localhost:8080/",
          "height": 34
        },
        "id": "yTFc6pnEbdIn",
        "outputId": "05c90b19-1ff0-4978-8acd-ef77c7a6c954"
      },
      "execution_count": null,
      "outputs": [
        {
          "output_type": "display_data",
          "data": {
            "text/html": [
              "<style>\n",
              ".list-inline {list-style: none; margin:0; padding: 0}\n",
              ".list-inline>li {display: inline-block}\n",
              ".list-inline>li:not(:last-child)::after {content: \"\\00b7\"; padding: 0 .5ex}\n",
              "</style>\n",
              "<ol class=list-inline><li>'students'</li><li>'products'</li><li>'zone'</li><li>'deliverys'</li></ol>\n"
            ],
            "text/markdown": "1. 'students'\n2. 'products'\n3. 'zone'\n4. 'deliverys'\n\n\n",
            "text/latex": "\\begin{enumerate*}\n\\item 'students'\n\\item 'products'\n\\item 'zone'\n\\item 'deliverys'\n\\end{enumerate*}\n",
            "text/plain": [
              "[1] \"students\"  \"products\"  \"zone\"      \"deliverys\""
            ]
          },
          "metadata": {}
        }
      ]
    },
    {
      "cell_type": "code",
      "source": [
        "dbGetQuery(con,\"SELECT * FROM students\")"
      ],
      "metadata": {
        "colab": {
          "base_uri": "https://localhost:8080/",
          "height": 255
        },
        "id": "8FjZeagRcd5N",
        "outputId": "bfe8f328-b122-4d69-f5cf-1f3b6e66e568"
      },
      "execution_count": null,
      "outputs": [
        {
          "output_type": "display_data",
          "data": {
            "text/html": [
              "<table class=\"dataframe\">\n",
              "<caption>A data.frame: 5 × 2</caption>\n",
              "<thead>\n",
              "\t<tr><th></th><th scope=col>id</th><th scope=col>student_name</th></tr>\n",
              "\t<tr><th></th><th scope=col>&lt;int&gt;</th><th scope=col>&lt;chr&gt;</th></tr>\n",
              "</thead>\n",
              "<tbody>\n",
              "\t<tr><th scope=row>1</th><td>1</td><td>Pariwat</td></tr>\n",
              "\t<tr><th scope=row>2</th><td>2</td><td>Sompong</td></tr>\n",
              "\t<tr><th scope=row>3</th><td>3</td><td>Thitima</td></tr>\n",
              "\t<tr><th scope=row>4</th><td>4</td><td>Umpai  </td></tr>\n",
              "\t<tr><th scope=row>5</th><td>5</td><td>James  </td></tr>\n",
              "</tbody>\n",
              "</table>\n"
            ],
            "text/markdown": "\nA data.frame: 5 × 2\n\n| <!--/--> | id &lt;int&gt; | student_name &lt;chr&gt; |\n|---|---|---|\n| 1 | 1 | Pariwat |\n| 2 | 2 | Sompong |\n| 3 | 3 | Thitima |\n| 4 | 4 | Umpai   |\n| 5 | 5 | James   |\n\n",
            "text/latex": "A data.frame: 5 × 2\n\\begin{tabular}{r|ll}\n  & id & student\\_name\\\\\n  & <int> & <chr>\\\\\n\\hline\n\t1 & 1 & Pariwat\\\\\n\t2 & 2 & Sompong\\\\\n\t3 & 3 & Thitima\\\\\n\t4 & 4 & Umpai  \\\\\n\t5 & 5 & James  \\\\\n\\end{tabular}\n",
            "text/plain": [
              "  id student_name\n",
              "1 1  Pariwat     \n",
              "2 2  Sompong     \n",
              "3 3  Thitima     \n",
              "4 4  Umpai       \n",
              "5 5  James       "
            ]
          },
          "metadata": {}
        }
      ]
    },
    {
      "cell_type": "code",
      "source": [
        "dbGetQuery(con,\"SELECT \n",
        "pr.name,\n",
        "pr.price,\n",
        "pr.quantity,\n",
        "zone.name as zone,\n",
        "de.pay\n",
        "FROM deliverys de\n",
        "JOIN products pr\n",
        "ON de.product = pr.id\n",
        "JOIN zone \n",
        "ON de.zone = zone.id\")"
      ],
      "metadata": {
        "colab": {
          "base_uri": "https://localhost:8080/",
          "height": 255
        },
        "id": "2b1qgOOJlABf",
        "outputId": "00aac3da-b471-40ae-8276-fccc2717a36f"
      },
      "execution_count": null,
      "outputs": [
        {
          "output_type": "display_data",
          "data": {
            "text/html": [
              "<table class=\"dataframe\">\n",
              "<caption>A data.frame: 5 × 5</caption>\n",
              "<thead>\n",
              "\t<tr><th></th><th scope=col>name</th><th scope=col>price</th><th scope=col>quantity</th><th scope=col>zone</th><th scope=col>pay</th></tr>\n",
              "\t<tr><th></th><th scope=col>&lt;chr&gt;</th><th scope=col>&lt;dbl&gt;</th><th scope=col>&lt;dbl&gt;</th><th scope=col>&lt;chr&gt;</th><th scope=col>&lt;lgl&gt;</th></tr>\n",
              "</thead>\n",
              "<tbody>\n",
              "\t<tr><th scope=row>1</th><td>Banana</td><td>100</td><td>200</td><td>DMK</td><td> TRUE</td></tr>\n",
              "\t<tr><th scope=row>2</th><td>Banana</td><td>100</td><td>200</td><td>BKK</td><td>FALSE</td></tr>\n",
              "\t<tr><th scope=row>3</th><td>Mango </td><td>300</td><td>200</td><td>HDY</td><td> TRUE</td></tr>\n",
              "\t<tr><th scope=row>4</th><td>Papaya</td><td>400</td><td>200</td><td>CNX</td><td> TRUE</td></tr>\n",
              "\t<tr><th scope=row>5</th><td>Kiwi  </td><td>500</td><td>200</td><td>CEI</td><td>FALSE</td></tr>\n",
              "</tbody>\n",
              "</table>\n"
            ],
            "text/markdown": "\nA data.frame: 5 × 5\n\n| <!--/--> | name &lt;chr&gt; | price &lt;dbl&gt; | quantity &lt;dbl&gt; | zone &lt;chr&gt; | pay &lt;lgl&gt; |\n|---|---|---|---|---|---|\n| 1 | Banana | 100 | 200 | DMK |  TRUE |\n| 2 | Banana | 100 | 200 | BKK | FALSE |\n| 3 | Mango  | 300 | 200 | HDY |  TRUE |\n| 4 | Papaya | 400 | 200 | CNX |  TRUE |\n| 5 | Kiwi   | 500 | 200 | CEI | FALSE |\n\n",
            "text/latex": "A data.frame: 5 × 5\n\\begin{tabular}{r|lllll}\n  & name & price & quantity & zone & pay\\\\\n  & <chr> & <dbl> & <dbl> & <chr> & <lgl>\\\\\n\\hline\n\t1 & Banana & 100 & 200 & DMK &  TRUE\\\\\n\t2 & Banana & 100 & 200 & BKK & FALSE\\\\\n\t3 & Mango  & 300 & 200 & HDY &  TRUE\\\\\n\t4 & Papaya & 400 & 200 & CNX &  TRUE\\\\\n\t5 & Kiwi   & 500 & 200 & CEI & FALSE\\\\\n\\end{tabular}\n",
            "text/plain": [
              "  name   price quantity zone pay  \n",
              "1 Banana 100   200      DMK   TRUE\n",
              "2 Banana 100   200      BKK  FALSE\n",
              "3 Mango  300   200      HDY   TRUE\n",
              "4 Papaya 400   200      CNX   TRUE\n",
              "5 Kiwi   500   200      CEI  FALSE"
            ]
          },
          "metadata": {}
        }
      ]
    },
    {
      "cell_type": "code",
      "source": [
        "dbDisconnect(con)"
      ],
      "metadata": {
        "colab": {
          "base_uri": "https://localhost:8080/",
          "height": 34
        },
        "id": "RVUmsNY4c-Ts",
        "outputId": "f287bbc9-4073-4cf0-8e82-288dc5058def"
      },
      "execution_count": null,
      "outputs": [
        {
          "output_type": "display_data",
          "data": {
            "text/html": [
              "TRUE"
            ],
            "text/markdown": "TRUE",
            "text/latex": "TRUE",
            "text/plain": [
              "[1] TRUE"
            ]
          },
          "metadata": {}
        }
      ]
    }
  ]
}